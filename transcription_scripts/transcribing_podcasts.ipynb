{
 "cells": [
  {
   "cell_type": "code",
   "execution_count": 0,
   "id": "dc91914c",
   "metadata": {},
   "outputs": [
   ],
   "source": [
    "Personal Website - https://vitthal-bhandari.github.io/\n",
"GitHub Link - https://github.com/vitthal-bhandari\n"
   ]
  },
{
   "cell_type": "code",
   "execution_count": 1,
   "id": "dc91913c",
   "metadata": {},
   "outputs": [],
   "source": [
    "!nvidia-smi"
   ]
  },
  {
   "cell_type": "code",
   "execution_count": 2,
   "id": "9c92cb50",
   "metadata": {},
   "outputs": [
    {
     "name": "stdout",
     "output_type": "stream",
     "text": [
      "3.10.11\n"
     ]
    }
   ],
   "source": [
    "from platform import python_version\n",
    "print(python_version())"
   ]
  },
  {
   "cell_type": "code",
   "execution_count": 3,
   "id": "caa6f35e",
   "metadata": {},
   "outputs": [],
   "source": [
    "import torch\n",
    "device = torch.device('cuda:0')"
   ]
  },
  {
   "cell_type": "code",
   "execution_count": 5,
   "id": "3b13b103",
   "metadata": {},
   "outputs": [
    {
     "name": "stdout",
     "output_type": "stream",
     "text": [
      "True\n",
      "2.0.1\n"
     ]
    }
   ],
   "source": [
    "import torch\n",
    "\n",
    "print(torch.cuda.is_available())\n",
    "print(torch.__version__)\n"
   ]
  },
  {
   "cell_type": "code",
   "execution_count": 6,
   "id": "039e11ec",
   "metadata": {},
   "outputs": [
   ],
   "source": [
    "pip install -U openai-whisper"
   ]
  },
  {
   "cell_type": "code",
   "execution_count": 7,
   "id": "dae08437",
   "metadata": {},
   "outputs": [],
   "source": [
    "import pandas as pd\n",
    "import numpy as np\n",
    "import requests\n",
    "import torch\n",
    "import whisper\n",
    "import json\n",
    "import os"
   ]
  },
  {
   "cell_type": "code",
   "execution_count": 16,
   "id": "b8f5d52c",
   "metadata": {},
   "outputs": [
    {
     "data": {
      "text/html": [
       "<div>\n",
       "<style scoped>\n",
       "    .dataframe tbody tr th:only-of-type {\n",
       "        vertical-align: middle;\n",
       "    }\n",
       "\n",
       "    .dataframe tbody tr th {\n",
       "        vertical-align: top;\n",
       "    }\n",
       "\n",
       "    .dataframe thead th {\n",
       "        text-align: right;\n",
       "    }\n",
       "</style>\n",
       "<table border=\"1\" class=\"dataframe\">\n",
       "  <thead>\n",
       "    <tr style=\"text-align: right;\">\n",
       "      <th></th>\n",
       "      <th>Episode ID</th>\n",
       "      <th>Show Name</th>\n",
       "      <th>Full Date</th>\n",
       "      <th>Title</th>\n",
       "      <th>Description</th>\n",
       "      <th>Partisan Leaning</th>\n",
       "      <th>Category on Apple</th>\n",
       "      <th>Entered Dataset</th>\n",
       "      <th>Audio URL</th>\n",
       "    </tr>\n",
       "  </thead>\n",
       "  <tbody>\n",
       "    <tr>\n",
       "      <th>0</th>\n",
       "      <td>204</td>\n",
       "      <td>AMERICA OUT LOUD PODCAST NETWORK</td>\n",
       "      <td>2023-07-16</td>\n",
       "      <td>the end game connecting the dots of covid shot...</td>\n",
       "      <td>truth for health with drlee4america – everythi...</td>\n",
       "      <td>More Conservative</td>\n",
       "      <td>News</td>\n",
       "      <td>Apple Recommendation</td>\n",
       "      <td>https://media.blubrry.com/truthforhealth/media...</td>\n",
       "    </tr>\n",
       "    <tr>\n",
       "      <th>1</th>\n",
       "      <td>6265</td>\n",
       "      <td>Conservative Review with Daniel Horowitz</td>\n",
       "      <td>2023-03-14</td>\n",
       "      <td>we continue to fail with red-state legislature...</td>\n",
       "      <td>without a sense of direction and purpose on po...</td>\n",
       "      <td>More Conservative</td>\n",
       "      <td>News</td>\n",
       "      <td>Apple Recommendation</td>\n",
       "      <td>https://www.podtrac.com/pts/redirect.mp3/pdst....</td>\n",
       "    </tr>\n",
       "    <tr>\n",
       "      <th>2</th>\n",
       "      <td>6214</td>\n",
       "      <td>Conservative Review with Daniel Horowitz</td>\n",
       "      <td>2023-06-01</td>\n",
       "      <td>pandemic of mental contagion, autism, mass hyp...</td>\n",
       "      <td>today, we cover some of the most vexing issues...</td>\n",
       "      <td>More Conservative</td>\n",
       "      <td>News</td>\n",
       "      <td>Apple Recommendation</td>\n",
       "      <td>https://www.podtrac.com/pts/redirect.mp3/pdst....</td>\n",
       "    </tr>\n",
       "    <tr>\n",
       "      <th>3</th>\n",
       "      <td>1519</td>\n",
       "      <td>Bannon's War Room</td>\n",
       "      <td>2022-08-30</td>\n",
       "      <td>episode 2117: alex jones: the great reset and ...</td>\n",
       "      <td>episode 2117: alex jones: the great reset and ...</td>\n",
       "      <td>More Conservative</td>\n",
       "      <td>News</td>\n",
       "      <td>Apple Top 100</td>\n",
       "      <td>https://chrt.fm/track/5B4639/storage.warroom.o...</td>\n",
       "    </tr>\n",
       "    <tr>\n",
       "      <th>4</th>\n",
       "      <td>438</td>\n",
       "      <td>American Thought Leaders</td>\n",
       "      <td>2023-01-26</td>\n",
       "      <td>alvin lui: how schools are weaponizing ‘inclus...</td>\n",
       "      <td>“my great grandfather ran from communism. the ...</td>\n",
       "      <td>More Conservative</td>\n",
       "      <td>News</td>\n",
       "      <td>Apple Recommendation</td>\n",
       "      <td>https://podcasts.captivate.fm/media/d8b788fe-a...</td>\n",
       "    </tr>\n",
       "    <tr>\n",
       "      <th>5</th>\n",
       "      <td>5472</td>\n",
       "      <td>Candace Owens</td>\n",
       "      <td>2023-03-29</td>\n",
       "      <td>ep. 124 - interview with vivek ramaswamy part 2</td>\n",
       "      <td>2024 presidential candidate, vivek ramaswamy, ...</td>\n",
       "      <td>More Conservative</td>\n",
       "      <td>News</td>\n",
       "      <td>Apple Top 100</td>\n",
       "      <td>https://dts.podtrac.com/redirect.mp3/chrt.fm/t...</td>\n",
       "    </tr>\n",
       "    <tr>\n",
       "      <th>6</th>\n",
       "      <td>6350</td>\n",
       "      <td>Conservative Review with Daniel Horowitz</td>\n",
       "      <td>2022-10-24</td>\n",
       "      <td>how republicans offer the illusion of an oppos...</td>\n",
       "      <td>how do we make the election win of republicans...</td>\n",
       "      <td>More Conservative</td>\n",
       "      <td>News</td>\n",
       "      <td>Apple Recommendation</td>\n",
       "      <td>https://www.podtrac.com/pts/redirect.mp3/pdst....</td>\n",
       "    </tr>\n",
       "    <tr>\n",
       "      <th>7</th>\n",
       "      <td>6351</td>\n",
       "      <td>Conservative Review with Daniel Horowitz</td>\n",
       "      <td>2022-10-21</td>\n",
       "      <td>how to pressure the gop to actually make the e...</td>\n",
       "      <td>the election mandate will not fulfill itself. ...</td>\n",
       "      <td>More Conservative</td>\n",
       "      <td>News</td>\n",
       "      <td>Apple Recommendation</td>\n",
       "      <td>https://www.podtrac.com/pts/redirect.mp3/pdst....</td>\n",
       "    </tr>\n",
       "    <tr>\n",
       "      <th>8</th>\n",
       "      <td>5442</td>\n",
       "      <td>Candace Owens</td>\n",
       "      <td>2023-05-11</td>\n",
       "      <td>why chelsea handler loves dylan mulvaney</td>\n",
       "      <td>why transgenderism is popular among radical fe...</td>\n",
       "      <td>More Conservative</td>\n",
       "      <td>News</td>\n",
       "      <td>Apple Top 100</td>\n",
       "      <td>https://dts.podtrac.com/redirect.mp3/chrt.fm/t...</td>\n",
       "    </tr>\n",
       "    <tr>\n",
       "      <th>9</th>\n",
       "      <td>6355</td>\n",
       "      <td>Conservative Review with Daniel Horowitz</td>\n",
       "      <td>2022-10-14</td>\n",
       "      <td>republicans aren’t even campaigning on the iss...</td>\n",
       "      <td>not only are republicans not confronting democ...</td>\n",
       "      <td>More Conservative</td>\n",
       "      <td>News</td>\n",
       "      <td>Apple Recommendation</td>\n",
       "      <td>https://www.podtrac.com/pts/redirect.mp3/pdst....</td>\n",
       "    </tr>\n",
       "  </tbody>\n",
       "</table>\n",
       "</div>"
      ],
      "text/plain": [
       "   Episode ID                                 Show Name   Full Date  \\\n",
       "0         204          AMERICA OUT LOUD PODCAST NETWORK  2023-07-16   \n",
       "1        6265  Conservative Review with Daniel Horowitz  2023-03-14   \n",
       "2        6214  Conservative Review with Daniel Horowitz  2023-06-01   \n",
       "3        1519                         Bannon's War Room  2022-08-30   \n",
       "4         438                  American Thought Leaders  2023-01-26   \n",
       "5        5472                             Candace Owens  2023-03-29   \n",
       "6        6350  Conservative Review with Daniel Horowitz  2022-10-24   \n",
       "7        6351  Conservative Review with Daniel Horowitz  2022-10-21   \n",
       "8        5442                             Candace Owens  2023-05-11   \n",
       "9        6355  Conservative Review with Daniel Horowitz  2022-10-14   \n",
       "\n",
       "                                               Title  \\\n",
       "0  the end game connecting the dots of covid shot...   \n",
       "1  we continue to fail with red-state legislature...   \n",
       "2  pandemic of mental contagion, autism, mass hyp...   \n",
       "3  episode 2117: alex jones: the great reset and ...   \n",
       "4  alvin lui: how schools are weaponizing ‘inclus...   \n",
       "5    ep. 124 - interview with vivek ramaswamy part 2   \n",
       "6  how republicans offer the illusion of an oppos...   \n",
       "7  how to pressure the gop to actually make the e...   \n",
       "8           why chelsea handler loves dylan mulvaney   \n",
       "9  republicans aren’t even campaigning on the iss...   \n",
       "\n",
       "                                         Description   Partisan Leaning  \\\n",
       "0  truth for health with drlee4america – everythi...  More Conservative   \n",
       "1  without a sense of direction and purpose on po...  More Conservative   \n",
       "2  today, we cover some of the most vexing issues...  More Conservative   \n",
       "3  episode 2117: alex jones: the great reset and ...  More Conservative   \n",
       "4  “my great grandfather ran from communism. the ...  More Conservative   \n",
       "5  2024 presidential candidate, vivek ramaswamy, ...  More Conservative   \n",
       "6  how do we make the election win of republicans...  More Conservative   \n",
       "7  the election mandate will not fulfill itself. ...  More Conservative   \n",
       "8  why transgenderism is popular among radical fe...  More Conservative   \n",
       "9  not only are republicans not confronting democ...  More Conservative   \n",
       "\n",
       "  Category on Apple       Entered Dataset  \\\n",
       "0              News  Apple Recommendation   \n",
       "1              News  Apple Recommendation   \n",
       "2              News  Apple Recommendation   \n",
       "3              News         Apple Top 100   \n",
       "4              News  Apple Recommendation   \n",
       "5              News         Apple Top 100   \n",
       "6              News  Apple Recommendation   \n",
       "7              News  Apple Recommendation   \n",
       "8              News         Apple Top 100   \n",
       "9              News  Apple Recommendation   \n",
       "\n",
       "                                           Audio URL  \n",
       "0  https://media.blubrry.com/truthforhealth/media...  \n",
       "1  https://www.podtrac.com/pts/redirect.mp3/pdst....  \n",
       "2  https://www.podtrac.com/pts/redirect.mp3/pdst....  \n",
       "3  https://chrt.fm/track/5B4639/storage.warroom.o...  \n",
       "4  https://podcasts.captivate.fm/media/d8b788fe-a...  \n",
       "5  https://dts.podtrac.com/redirect.mp3/chrt.fm/t...  \n",
       "6  https://www.podtrac.com/pts/redirect.mp3/pdst....  \n",
       "7  https://www.podtrac.com/pts/redirect.mp3/pdst....  \n",
       "8  https://dts.podtrac.com/redirect.mp3/chrt.fm/t...  \n",
       "9  https://www.podtrac.com/pts/redirect.mp3/pdst....  "
      ]
     },
     "execution_count": 16,
     "metadata": {},
     "output_type": "execute_result"
    }
   ],
   "source": [
    "# reading a subset of the dataset\n",
    "\n",
    "data_subset = pd.read_csv('podcast_data_2023-07-26.csv')\n",
    "data_subset = data_subset.sample(frac=1).reset_index(drop=True)\n",
    "data = data_subset.head(10)\n",
    "data"
   ]
  },
  {
   "cell_type": "code",
   "execution_count": 14,
   "id": "f606c70b",
   "metadata": {},
   "outputs": [
    {
     "data": {
      "text/plain": [
       "'https://www.podtrac.com/pts/redirect.mp3/pdst.fm/e/pfx.vpixl.com/4V6da/arttrk.com/p/BLZM1/chtbl.com/track/384GD8/verifi.podscribe.com/rss/p/traffic.megaphone.fm/BMDC5125488112.mp3?updated=1668707287'"
      ]
     },
     "execution_count": 14,
     "metadata": {},
     "output_type": "execute_result"
    }
   ],
   "source": [
    "data[\"Audio URL\"][0]"
   ]
  },
  {
   "cell_type": "code",
   "execution_count": 15,
   "id": "d981044a",
   "metadata": {},
   "outputs": [],
   "source": [
    "model = whisper.load_model('base.en', device=\"cuda:0\")"
   ]
  },
  {
   "cell_type": "code",
   "execution_count": 11,
   "id": "ff1a0f69",
   "metadata": {},
   "outputs": [],
   "source": [
    "# function to transribe audio using whisper\n",
    "def transcribe_audio_url(episode_id, show_name, full_date, url):\n",
    "    \n",
    "    # Download the audio file from the URL\n",
    "    response = requests.get(url)\n",
    "    \n",
    "    temp_file = str(episode_id) + \"_\" + str(show_name) + \"_\" + str(full_date) + \".mp3\"\n",
    "    \n",
    "    filepath = os.path.join('audios', temp_file)\n",
    "    \n",
    "    with open(filepath, \"wb\") as file:\n",
    "        file.write(response.content)\n",
    "    \n",
    "    transcription = model.transcribe(filepath)\n",
    "    \n",
    "    # Serializing json\n",
    "    json_object = json.dumps(transcription, indent=4, sort_keys=True)\n",
    "    \n",
    "    transcription_filename = str(episode_id) + \"_\" + str(show_name) + \"_\" + str(full_date) + \"_transcription.json\"\n",
    "    \n",
    "    transcription_filepath = os.path.join('transcriptions', transcription_filename)\n",
    "    \n",
    "    # Writing to categorization_tweets.json\n",
    "    with open(transcription_filepath, \"w\") as outfile:\n",
    "        outfile.write(json_object)\n",
    "    \n",
    "    print(f\"Successfully transcribed episode ID {episode_id} from show '{show_name}'.\")"
   ]
  },
  {
   "cell_type": "code",
   "execution_count": 20,
   "id": "415f82b6",
   "metadata": {},
   "outputs": [
    {
     "name": "stdout",
     "output_type": "stream",
     "text": [
      "Successfully transcribed episode ID 438 from show 'American Thought Leaders'.\n",
      "Successfully transcribed episode ID 5472 from show 'Candace Owens'.\n",
      "Successfully transcribed episode ID 6350 from show 'Conservative Review with Daniel Horowitz'.\n",
      "Successfully transcribed episode ID 6351 from show 'Conservative Review with Daniel Horowitz'.\n",
      "Successfully transcribed episode ID 5442 from show 'Candace Owens'.\n",
      "Successfully transcribed episode ID 6355 from show 'Conservative Review with Daniel Horowitz'.\n",
      "Successfully transcribed all apisodes in 33.70048033793767 minutes.\n"
     ]
    }
   ],
   "source": [
    "import time\n",
    "\n",
    "start_time = time.time()\n",
    "\n",
    "# iterating through the dataframe\n",
    "for index, row in new_data.iterrows():\n",
    "    episode_id = row[\"Episode ID\"]\n",
    "    show_name = row[\"Show Name\"]\n",
    "    full_date = row[\"Full Date\"]\n",
    "    url = row[\"Audio URL\"]\n",
    "    try:\n",
    "        transcribe_audio_url(episode_id, show_name, full_date, url)\n",
    "    except Exception as e:\n",
    "        print(e)\n",
    "\n",
    "end_time = time.time()\n",
    "execution_time = end_time - start_time\n",
    "minutes = execution_time / 60\n",
    "\n",
    "print(f\"Successfully transcribed all apisodes in {minutes} minutes.\")"
   ]
  }
 ],
 "metadata": {
  "kernelspec": {
   "display_name": "Python 3 (ipykernel)",
   "language": "python",
   "name": "python3"
  },
  "language_info": {
   "codemirror_mode": {
    "name": "ipython",
    "version": 3
   },
   "file_extension": ".py",
   "mimetype": "text/x-python",
   "name": "python",
   "nbconvert_exporter": "python",
   "pygments_lexer": "ipython3",
   "version": "3.10.11"
  }
 },
 "nbformat": 4,
 "nbformat_minor": 5
}
