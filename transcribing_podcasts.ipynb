{
 "cells": [
  {
   "cell_type": "code",
   "execution_count": 1,
   "id": "dc91913c",
   "metadata": {},
   "outputs": [
    {
     "name": "stdout",
     "output_type": "stream",
     "text": [
      "Tue Jun 27 15:28:44 2023       \n",
      "+---------------------------------------------------------------------------------------+\n",
      "| NVIDIA-SMI 536.23                 Driver Version: 536.23       CUDA Version: 12.2     |\n",
      "|-----------------------------------------+----------------------+----------------------+\n",
      "| GPU  Name                     TCC/WDDM  | Bus-Id        Disp.A | Volatile Uncorr. ECC |\n",
      "| Fan  Temp   Perf          Pwr:Usage/Cap |         Memory-Usage | GPU-Util  Compute M. |\n",
      "|                                         |                      |               MIG M. |\n",
      "|=========================================+======================+======================|\n",
      "|   0  NVIDIA GeForce GTX 1050 Ti   WDDM  | 00000000:01:00.0 Off |                  N/A |\n",
      "| N/A   65C    P0              N/A / ERR! |      0MiB /  4096MiB |      1%      Default |\n",
      "|                                         |                      |                  N/A |\n",
      "+-----------------------------------------+----------------------+----------------------+\n",
      "                                                                                         \n",
      "+---------------------------------------------------------------------------------------+\n",
      "| Processes:                                                                            |\n",
      "|  GPU   GI   CI        PID   Type   Process name                            GPU Memory |\n",
      "|        ID   ID                                                             Usage      |\n",
      "|=======================================================================================|\n",
      "|  No running processes found                                                           |\n",
      "+---------------------------------------------------------------------------------------+\n"
     ]
    }
   ],
   "source": [
    "!nvidia-smi"
   ]
  },
  {
   "cell_type": "code",
   "execution_count": 2,
   "id": "9c92cb50",
   "metadata": {},
   "outputs": [
    {
     "name": "stdout",
     "output_type": "stream",
     "text": [
      "3.10.11\n"
     ]
    }
   ],
   "source": [
    "from platform import python_version\n",
    "print(python_version())"
   ]
  },
  {
   "cell_type": "code",
   "execution_count": 3,
   "id": "caa6f35e",
   "metadata": {},
   "outputs": [],
   "source": [
    "import torch\n",
    "device = torch.device('cuda:0')"
   ]
  },
  {
   "cell_type": "code",
   "execution_count": 4,
   "id": "3b13b103",
   "metadata": {},
   "outputs": [
    {
     "name": "stdout",
     "output_type": "stream",
     "text": [
      "True\n",
      "2.0.1\n"
     ]
    }
   ],
   "source": [
    "import torch\n",
    "\n",
    "print(torch.cuda.is_available())\n",
    "print(torch.__version__)\n"
   ]
  },
  {
   "cell_type": "code",
   "execution_count": 5,
   "id": "039e11ec",
   "metadata": {},
   "outputs": [
    {
     "name": "stdout",
     "output_type": "stream",
     "text": [
      "Requirement already satisfied: openai-whisper in d:\\softwares\\anaconda\\lib\\site-packages (20230314)\n",
      "Requirement already satisfied: ffmpeg-python==0.2.0 in d:\\softwares\\anaconda\\lib\\site-packages (from openai-whisper) (0.2.0)\n",
      "Requirement already satisfied: torch in d:\\softwares\\anaconda\\lib\\site-packages (from openai-whisper) (2.0.1)\n",
      "Requirement already satisfied: tqdm in d:\\softwares\\anaconda\\lib\\site-packages (from openai-whisper) (4.65.0)\n",
      "Requirement already satisfied: numba in d:\\softwares\\anaconda\\lib\\site-packages (from openai-whisper) (0.57.0)\n",
      "Requirement already satisfied: numpy in d:\\softwares\\anaconda\\lib\\site-packages (from openai-whisper) (1.24.4)\n",
      "Requirement already satisfied: tiktoken==0.3.1 in d:\\softwares\\anaconda\\lib\\site-packages (from openai-whisper) (0.3.1)\n",
      "Requirement already satisfied: more-itertools in d:\\softwares\\anaconda\\lib\\site-packages (from openai-whisper) (9.1.0)\n",
      "Requirement already satisfied: future in d:\\softwares\\anaconda\\lib\\site-packages (from ffmpeg-python==0.2.0->openai-whisper) (0.18.3)\n",
      "Requirement already satisfied: regex>=2022.1.18 in d:\\softwares\\anaconda\\lib\\site-packages (from tiktoken==0.3.1->openai-whisper) (2023.6.3)\n",
      "Requirement already satisfied: requests>=2.26.0 in d:\\softwares\\anaconda\\lib\\site-packages (from tiktoken==0.3.1->openai-whisper) (2.29.0)\n",
      "Requirement already satisfied: llvmlite<0.41,>=0.40.0dev0 in d:\\softwares\\anaconda\\lib\\site-packages (from numba->openai-whisper) (0.40.0)\n",
      "Requirement already satisfied: filelock in d:\\softwares\\anaconda\\lib\\site-packages (from torch->openai-whisper) (3.9.0)\n",
      "Requirement already satisfied: typing-extensions in d:\\softwares\\anaconda\\lib\\site-packages (from torch->openai-whisper) (4.6.3)\n",
      "Requirement already satisfied: sympy in d:\\softwares\\anaconda\\lib\\site-packages (from torch->openai-whisper) (1.11.1)\n",
      "Requirement already satisfied: networkx in d:\\softwares\\anaconda\\lib\\site-packages (from torch->openai-whisper) (2.8.4)\n",
      "Requirement already satisfied: jinja2 in d:\\softwares\\anaconda\\lib\\site-packages (from torch->openai-whisper) (3.1.2)\n",
      "Requirement already satisfied: colorama in d:\\softwares\\anaconda\\lib\\site-packages (from tqdm->openai-whisper) (0.4.6)\n",
      "Requirement already satisfied: charset-normalizer<4,>=2 in d:\\softwares\\anaconda\\lib\\site-packages (from requests>=2.26.0->tiktoken==0.3.1->openai-whisper) (2.0.4)\n",
      "Requirement already satisfied: certifi>=2017.4.17 in d:\\softwares\\anaconda\\lib\\site-packages (from requests>=2.26.0->tiktoken==0.3.1->openai-whisper) (2023.5.7)\n",
      "Requirement already satisfied: idna<4,>=2.5 in d:\\softwares\\anaconda\\lib\\site-packages (from requests>=2.26.0->tiktoken==0.3.1->openai-whisper) (3.4)\n",
      "Requirement already satisfied: urllib3<1.27,>=1.21.1 in d:\\softwares\\anaconda\\lib\\site-packages (from requests>=2.26.0->tiktoken==0.3.1->openai-whisper) (1.26.16)\n",
      "Requirement already satisfied: MarkupSafe>=2.0 in d:\\softwares\\anaconda\\lib\\site-packages (from jinja2->torch->openai-whisper) (2.1.1)\n",
      "Requirement already satisfied: mpmath>=0.19 in d:\\softwares\\anaconda\\lib\\site-packages (from sympy->torch->openai-whisper) (1.2.1)\n",
      "Note: you may need to restart the kernel to use updated packages.\n"
     ]
    },
    {
     "name": "stderr",
     "output_type": "stream",
     "text": [
      "WARNING: Ignoring invalid distribution -orch (d:\\softwares\\anaconda\\lib\\site-packages)\n",
      "WARNING: Ignoring invalid distribution -orch (d:\\softwares\\anaconda\\lib\\site-packages)\n",
      "WARNING: Ignoring invalid distribution -orch (d:\\softwares\\anaconda\\lib\\site-packages)\n",
      "WARNING: Ignoring invalid distribution -orch (d:\\softwares\\anaconda\\lib\\site-packages)\n",
      "WARNING: Ignoring invalid distribution -orch (d:\\softwares\\anaconda\\lib\\site-packages)\n",
      "WARNING: Ignoring invalid distribution -orch (d:\\softwares\\anaconda\\lib\\site-packages)\n"
     ]
    }
   ],
   "source": [
    "pip install -U openai-whisper"
   ]
  },
  {
   "cell_type": "code",
   "execution_count": 6,
   "id": "cb25f244",
   "metadata": {},
   "outputs": [
    {
     "name": "stdout",
     "output_type": "stream",
     "text": [
      "Requirement already satisfied: soundfile in d:\\softwares\\anaconda\\lib\\site-packages (0.12.1)\n",
      "Requirement already satisfied: cffi>=1.0 in d:\\softwares\\anaconda\\lib\\site-packages (from soundfile) (1.15.1)\n",
      "Requirement already satisfied: pycparser in d:\\softwares\\anaconda\\lib\\site-packages (from cffi>=1.0->soundfile) (2.21)\n",
      "Note: you may need to restart the kernel to use updated packages.\n"
     ]
    },
    {
     "name": "stderr",
     "output_type": "stream",
     "text": [
      "WARNING: Ignoring invalid distribution -orch (d:\\softwares\\anaconda\\lib\\site-packages)\n",
      "WARNING: Ignoring invalid distribution -orch (d:\\softwares\\anaconda\\lib\\site-packages)\n",
      "WARNING: Ignoring invalid distribution -orch (d:\\softwares\\anaconda\\lib\\site-packages)\n",
      "WARNING: Ignoring invalid distribution -orch (d:\\softwares\\anaconda\\lib\\site-packages)\n",
      "WARNING: Ignoring invalid distribution -orch (d:\\softwares\\anaconda\\lib\\site-packages)\n",
      "WARNING: Ignoring invalid distribution -orch (d:\\softwares\\anaconda\\lib\\site-packages)\n"
     ]
    }
   ],
   "source": [
    "pip install soundfile"
   ]
  },
  {
   "cell_type": "code",
   "execution_count": 30,
   "id": "dae08437",
   "metadata": {},
   "outputs": [],
   "source": [
    "import pandas as pd\n",
    "import numpy as np\n",
    "import requests\n",
    "import torch\n",
    "import whisper\n",
    "import json\n",
    "import os\n",
    "import soundfile as sf"
   ]
  },
  {
   "cell_type": "code",
   "execution_count": 43,
   "id": "b8f5d52c",
   "metadata": {},
   "outputs": [
    {
     "data": {
      "text/html": [
       "<div>\n",
       "<style scoped>\n",
       "    .dataframe tbody tr th:only-of-type {\n",
       "        vertical-align: middle;\n",
       "    }\n",
       "\n",
       "    .dataframe tbody tr th {\n",
       "        vertical-align: top;\n",
       "    }\n",
       "\n",
       "    .dataframe thead th {\n",
       "        text-align: right;\n",
       "    }\n",
       "</style>\n",
       "<table border=\"1\" class=\"dataframe\">\n",
       "  <thead>\n",
       "    <tr style=\"text-align: right;\">\n",
       "      <th></th>\n",
       "      <th>Episode ID</th>\n",
       "      <th>Show Name</th>\n",
       "      <th>Full Date</th>\n",
       "      <th>Title</th>\n",
       "      <th>Description</th>\n",
       "      <th>Partisan Leaning</th>\n",
       "      <th>Category on Apple</th>\n",
       "      <th>Entered Dataset</th>\n",
       "      <th>Audio URL</th>\n",
       "    </tr>\n",
       "  </thead>\n",
       "  <tbody>\n",
       "    <tr>\n",
       "      <th>0</th>\n",
       "      <td>52547</td>\n",
       "      <td>The Michael Savage Show</td>\n",
       "      <td>2019-06-20</td>\n",
       "      <td>no to war in iran</td>\n",
       "      <td>savage says we should not engage in war with i...</td>\n",
       "      <td>More Conservative</td>\n",
       "      <td>News</td>\n",
       "      <td>Apple Recommendation</td>\n",
       "      <td>https://www.podtrac.com/pts/redirect.mp3/pdst....</td>\n",
       "    </tr>\n",
       "    <tr>\n",
       "      <th>1</th>\n",
       "      <td>45338</td>\n",
       "      <td>The Glenn Beck Program</td>\n",
       "      <td>2019-06-17</td>\n",
       "      <td>the looming war of ones and zeroes | 6/17/19</td>\n",
       "      <td>hour 1:  president trump criticizes a new york...</td>\n",
       "      <td>More Conservative</td>\n",
       "      <td>News</td>\n",
       "      <td>Apple Top 100</td>\n",
       "      <td>https://www.podtrac.com/pts/redirect.mp3/pdst....</td>\n",
       "    </tr>\n",
       "    <tr>\n",
       "      <th>2</th>\n",
       "      <td>37575</td>\n",
       "      <td>The Clay Travis and Buck Sexton Show</td>\n",
       "      <td>2019-06-18</td>\n",
       "      <td>trump launches maga 2020!</td>\n",
       "      <td>trump to start the deportation of millions of ...</td>\n",
       "      <td>More Conservative</td>\n",
       "      <td>News</td>\n",
       "      <td>Apple Top 100</td>\n",
       "      <td>https://chtbl.com/track/5899E/podtrac.com/pts/...</td>\n",
       "    </tr>\n",
       "    <tr>\n",
       "      <th>3</th>\n",
       "      <td>17956</td>\n",
       "      <td>Newt's World</td>\n",
       "      <td>2019-06-23</td>\n",
       "      <td>episode 21: communist china vs. hong kong</td>\n",
       "      <td>one of the most important struggles on the pla...</td>\n",
       "      <td>More Conservative</td>\n",
       "      <td>News</td>\n",
       "      <td>Apple Recommendation</td>\n",
       "      <td>https://chtbl.com/track/5899E/podtrac.com/pts/...</td>\n",
       "    </tr>\n",
       "    <tr>\n",
       "      <th>4</th>\n",
       "      <td>16630</td>\n",
       "      <td>Mark Levin Podcast</td>\n",
       "      <td>2019-06-25</td>\n",
       "      <td>mark levin audio rewind - 6/24/19</td>\n",
       "      <td>on monday's mark levin show, more millennials ...</td>\n",
       "      <td>More Conservative</td>\n",
       "      <td>News</td>\n",
       "      <td>Apple Top 100</td>\n",
       "      <td>https://www.podtrac.com/pts/redirect.mp3/pdst....</td>\n",
       "    </tr>\n",
       "    <tr>\n",
       "      <th>5</th>\n",
       "      <td>14850</td>\n",
       "      <td>Louder with Crowder</td>\n",
       "      <td>2019-06-07</td>\n",
       "      <td>#498 we're demonetized! | dave rubin &amp; the hod...</td>\n",
       "      <td>cultural appropriation month kicks off with ca...</td>\n",
       "      <td>More Conservative</td>\n",
       "      <td>News</td>\n",
       "      <td>Apple Top 100</td>\n",
       "      <td>https://dts.podtrac.com/redirect.mp3/media.rss...</td>\n",
       "    </tr>\n",
       "    <tr>\n",
       "      <th>6</th>\n",
       "      <td>45344</td>\n",
       "      <td>The Glenn Beck Program</td>\n",
       "      <td>2019-06-12</td>\n",
       "      <td>best of the program | 6/12/19</td>\n",
       "      <td>best of the program | 6/12  - will america mak...</td>\n",
       "      <td>More Conservative</td>\n",
       "      <td>News</td>\n",
       "      <td>Apple Top 100</td>\n",
       "      <td>https://www.podtrac.com/pts/redirect.mp3/pdst....</td>\n",
       "    </tr>\n",
       "    <tr>\n",
       "      <th>7</th>\n",
       "      <td>4387</td>\n",
       "      <td>Bill O'Reilly's No Spin News and Analysis</td>\n",
       "      <td>2019-06-19</td>\n",
       "      <td>the o'reilly update, june 19, 2019</td>\n",
       "      <td>president trump delivers the first major addre...</td>\n",
       "      <td>More Conservative</td>\n",
       "      <td>News</td>\n",
       "      <td>Apple Recommendation</td>\n",
       "      <td>https://pdst.fm/e/chtbl.com/track/384D27/mgln....</td>\n",
       "    </tr>\n",
       "    <tr>\n",
       "      <th>8</th>\n",
       "      <td>4405</td>\n",
       "      <td>Bill O'Reilly's No Spin News and Analysis</td>\n",
       "      <td>2019-06-05</td>\n",
       "      <td>the o'reilly update, june 5, 2019</td>\n",
       "      <td>joe biden breaks with fellow democrats on a co...</td>\n",
       "      <td>More Conservative</td>\n",
       "      <td>News</td>\n",
       "      <td>Apple Recommendation</td>\n",
       "      <td>https://pdst.fm/e/chtbl.com/track/384D27/mgln....</td>\n",
       "    </tr>\n",
       "    <tr>\n",
       "      <th>9</th>\n",
       "      <td>52550</td>\n",
       "      <td>The Michael Savage Show</td>\n",
       "      <td>2019-06-14</td>\n",
       "      <td>sarah sanders, quit or fired? is iran a wag th...</td>\n",
       "      <td>today's radio show learn more about your ad ch...</td>\n",
       "      <td>More Conservative</td>\n",
       "      <td>News</td>\n",
       "      <td>Apple Recommendation</td>\n",
       "      <td>https://www.podtrac.com/pts/redirect.mp3/pdst....</td>\n",
       "    </tr>\n",
       "  </tbody>\n",
       "</table>\n",
       "</div>"
      ],
      "text/plain": [
       "   Episode ID                                  Show Name   Full Date  \\\n",
       "0       52547                    The Michael Savage Show  2019-06-20   \n",
       "1       45338                     The Glenn Beck Program  2019-06-17   \n",
       "2       37575       The Clay Travis and Buck Sexton Show  2019-06-18   \n",
       "3       17956                               Newt's World  2019-06-23   \n",
       "4       16630                         Mark Levin Podcast  2019-06-25   \n",
       "5       14850                        Louder with Crowder  2019-06-07   \n",
       "6       45344                     The Glenn Beck Program  2019-06-12   \n",
       "7        4387  Bill O'Reilly's No Spin News and Analysis  2019-06-19   \n",
       "8        4405  Bill O'Reilly's No Spin News and Analysis  2019-06-05   \n",
       "9       52550                    The Michael Savage Show  2019-06-14   \n",
       "\n",
       "                                               Title  \\\n",
       "0                                  no to war in iran   \n",
       "1       the looming war of ones and zeroes | 6/17/19   \n",
       "2                          trump launches maga 2020!   \n",
       "3          episode 21: communist china vs. hong kong   \n",
       "4                  mark levin audio rewind - 6/24/19   \n",
       "5  #498 we're demonetized! | dave rubin & the hod...   \n",
       "6                      best of the program | 6/12/19   \n",
       "7                 the o'reilly update, june 19, 2019   \n",
       "8                  the o'reilly update, june 5, 2019   \n",
       "9  sarah sanders, quit or fired? is iran a wag th...   \n",
       "\n",
       "                                         Description   Partisan Leaning  \\\n",
       "0  savage says we should not engage in war with i...  More Conservative   \n",
       "1  hour 1:  president trump criticizes a new york...  More Conservative   \n",
       "2  trump to start the deportation of millions of ...  More Conservative   \n",
       "3  one of the most important struggles on the pla...  More Conservative   \n",
       "4  on monday's mark levin show, more millennials ...  More Conservative   \n",
       "5  cultural appropriation month kicks off with ca...  More Conservative   \n",
       "6  best of the program | 6/12  - will america mak...  More Conservative   \n",
       "7  president trump delivers the first major addre...  More Conservative   \n",
       "8  joe biden breaks with fellow democrats on a co...  More Conservative   \n",
       "9  today's radio show learn more about your ad ch...  More Conservative   \n",
       "\n",
       "  Category on Apple       Entered Dataset  \\\n",
       "0              News  Apple Recommendation   \n",
       "1              News         Apple Top 100   \n",
       "2              News         Apple Top 100   \n",
       "3              News  Apple Recommendation   \n",
       "4              News         Apple Top 100   \n",
       "5              News         Apple Top 100   \n",
       "6              News         Apple Top 100   \n",
       "7              News  Apple Recommendation   \n",
       "8              News  Apple Recommendation   \n",
       "9              News  Apple Recommendation   \n",
       "\n",
       "                                           Audio URL  \n",
       "0  https://www.podtrac.com/pts/redirect.mp3/pdst....  \n",
       "1  https://www.podtrac.com/pts/redirect.mp3/pdst....  \n",
       "2  https://chtbl.com/track/5899E/podtrac.com/pts/...  \n",
       "3  https://chtbl.com/track/5899E/podtrac.com/pts/...  \n",
       "4  https://www.podtrac.com/pts/redirect.mp3/pdst....  \n",
       "5  https://dts.podtrac.com/redirect.mp3/media.rss...  \n",
       "6  https://www.podtrac.com/pts/redirect.mp3/pdst....  \n",
       "7  https://pdst.fm/e/chtbl.com/track/384D27/mgln....  \n",
       "8  https://pdst.fm/e/chtbl.com/track/384D27/mgln....  \n",
       "9  https://www.podtrac.com/pts/redirect.mp3/pdst....  "
      ]
     },
     "execution_count": 43,
     "metadata": {},
     "output_type": "execute_result"
    }
   ],
   "source": [
    "# reading a subset of the dataset\n",
    "\n",
    "data_subset = pd.read_csv('podcast_data_2023-06-23.csv')\n",
    "data_subset = data_subset.sample(frac=1).reset_index(drop=True)\n",
    "data = data_subset.head(10)\n",
    "data"
   ]
  },
  {
   "cell_type": "code",
   "execution_count": 39,
   "id": "f606c70b",
   "metadata": {},
   "outputs": [
    {
     "data": {
      "text/plain": [
       "'https://chtbl.com/track/5899E/podtrac.com/pts/redirect.mp3/arttrk.com/p/D5CA5/pdst.fm/e/traffic.omny.fm/d/clips/e73c998e-6e60-432f-8610-ae210140c5b1/3dae0b07-aac0-4154-8c1e-ae2b00350f94/90e931da-628d-4c68-8654-ae2b00cdf175/audio.mp3?utm_source=Podcast&in_playlist=1776c4cc-50a1-410f-a2de-ae3c00026dfa'"
      ]
     },
     "execution_count": 39,
     "metadata": {},
     "output_type": "execute_result"
    }
   ],
   "source": [
    "data[\"Audio URL\"][0]"
   ]
  },
  {
   "cell_type": "code",
   "execution_count": 20,
   "id": "d981044a",
   "metadata": {},
   "outputs": [
    {
     "name": "stderr",
     "output_type": "stream",
     "text": [
      "100%|█████████████████████████████████████| 72.1M/72.1M [00:46<00:00, 1.63MiB/s]\n"
     ]
    }
   ],
   "source": [
    "model = whisper.load_model('tiny.en', device=\"cuda:0\")"
   ]
  },
  {
   "cell_type": "code",
   "execution_count": 40,
   "id": "ff1a0f69",
   "metadata": {},
   "outputs": [],
   "source": [
    "# function to transribe audio using whisper\n",
    "def transcribe_audio_url(episode_id, show_name, full_date, url):\n",
    "    \n",
    "    # Download the audio file from the URL\n",
    "    response = requests.get(url)\n",
    "    \n",
    "    temp_file = str(episode_id) + \"_\" + str(show_name) + \"_\" + str(full_date) + \".mp3\"\n",
    "    \n",
    "    filepath = os.path.join('audios', temp_file)\n",
    "    \n",
    "    with open(filepath, \"wb\") as file:\n",
    "        file.write(response.content)\n",
    "    \n",
    "    transcription = model.transcribe(filepath)\n",
    "    \n",
    "    # Serializing json\n",
    "    json_object = json.dumps(transcription, indent=4, sort_keys=True)\n",
    "    \n",
    "    transcription_filename = str(episode_id) + \"_\" + str(show_name) + \"_\" + str(full_date) + \"_transcription.json\"\n",
    "    \n",
    "    transcription_filepath = os.path.join('transcriptions', transcription_filename)\n",
    "    \n",
    "    # Writing to categorization_tweets.json\n",
    "    with open(transcription_filepath, \"w\") as outfile:\n",
    "        outfile.write(json_object)\n",
    "    \n",
    "    print(f\"Successfully transcribed episode ID {episode_id} from show '{show_name}'.\")"
   ]
  },
  {
   "cell_type": "code",
   "execution_count": 44,
   "id": "415f82b6",
   "metadata": {},
   "outputs": [
    {
     "name": "stdout",
     "output_type": "stream",
     "text": [
      "Successfully transcribed episode ID 52547 from show 'The Michael Savage Show'.\n",
      "Successfully transcribed episode ID 45338 from show 'The Glenn Beck Program'.\n",
      "Successfully transcribed episode ID 37575 from show 'The Clay Travis and Buck Sexton Show'.\n",
      "Successfully transcribed episode ID 17956 from show 'Newt's World'.\n",
      "Successfully transcribed episode ID 16630 from show 'Mark Levin Podcast'.\n",
      "Successfully transcribed episode ID 14850 from show 'Louder with Crowder'.\n",
      "Successfully transcribed episode ID 45344 from show 'The Glenn Beck Program'.\n",
      "Successfully transcribed episode ID 4387 from show 'Bill O'Reilly's No Spin News and Analysis'.\n",
      "Successfully transcribed episode ID 4405 from show 'Bill O'Reilly's No Spin News and Analysis'.\n",
      "Successfully transcribed episode ID 52550 from show 'The Michael Savage Show'.\n",
      "Successfully transcribed all apisodes in 71.88586895863214 minutes.\n"
     ]
    }
   ],
   "source": [
    "import time\n",
    "\n",
    "start_time = time.time()\n",
    "\n",
    "# iterating through the dataframe\n",
    "for index, row in data.iterrows():\n",
    "    episode_id = row[\"Episode ID\"]\n",
    "    show_name = row[\"Show Name\"]\n",
    "    full_date = row[\"Full Date\"]\n",
    "    url = row[\"Audio URL\"]\n",
    "    transcribe_audio_url(episode_id, show_name, full_date, url)\n",
    "\n",
    "end_time = time.time()\n",
    "execution_time = end_time - start_time\n",
    "minutes = execution_time / 60\n",
    "\n",
    "print(f\"Successfully transcribed all apisodes in {minutes} minutes.\")"
   ]
  }
 ],
 "metadata": {
  "kernelspec": {
   "display_name": "Python 3 (ipykernel)",
   "language": "python",
   "name": "python3"
  },
  "language_info": {
   "codemirror_mode": {
    "name": "ipython",
    "version": 3
   },
   "file_extension": ".py",
   "mimetype": "text/x-python",
   "name": "python",
   "nbconvert_exporter": "python",
   "pygments_lexer": "ipython3",
   "version": "3.10.11"
  }
 },
 "nbformat": 4,
 "nbformat_minor": 5
}
